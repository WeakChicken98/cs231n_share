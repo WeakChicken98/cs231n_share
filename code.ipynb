{
 "cells": [
  {
   "cell_type": "markdown",
   "metadata": {},
   "source": [
    "导入python库"
   ]
  },
  {
   "cell_type": "code",
   "execution_count": 1,
   "metadata": {},
   "outputs": [
    {
     "name": "stderr",
     "output_type": "stream",
     "text": [
      "Using TensorFlow backend.\n"
     ]
    }
   ],
   "source": [
    "import numpy as np\n",
    "import datetime\n",
    "import matplotlib.pyplot as plt\n",
    "from keras.utils import to_categorical\n",
    "import cv2"
   ]
  },
  {
   "cell_type": "markdown",
   "metadata": {},
   "source": [
    "加载mnist数据集"
   ]
  },
  {
   "cell_type": "code",
   "execution_count": 2,
   "metadata": {},
   "outputs": [
    {
     "name": "stdout",
     "output_type": "stream",
     "text": [
      "(42000, 784)\n"
     ]
    }
   ],
   "source": [
    "data=np.loadtxt('data/train.csv',delimiter=',',skiprows=1)\n",
    "X=data[:,1:]\n",
    "X_reshaped=X.reshape((X.shape[0],28,28))\n",
    "Y=data[:,0]\n",
    "print(X.shape)"
   ]
  },
  {
   "cell_type": "markdown",
   "metadata": {},
   "source": [
    "查看数据集的前9张图片"
   ]
  },
  {
   "cell_type": "code",
   "execution_count": null,
   "metadata": {},
   "outputs": [],
   "source": [
    "plt.subplot(3,3,1)\n",
    "plt.imshow(X_reshaped[0],cmap = plt.cm.gray_r)\n",
    "plt.subplot(3,3,2)\n",
    "plt.imshow(X_reshaped[1],cmap = plt.cm.gray_r)\n",
    "plt.subplot(3,3,3)\n",
    "plt.imshow(X_reshaped[2],cmap = plt.cm.gray_r)\n",
    "plt.subplot(3,3,4)\n",
    "plt.imshow(X_reshaped[3],cmap = plt.cm.gray_r)\n",
    "plt.subplot(3,3,5)\n",
    "plt.imshow(X_reshaped[4],cmap = plt.cm.gray_r)\n",
    "plt.subplot(3,3,6)\n",
    "plt.imshow(X_reshaped[5],cmap = plt.cm.gray_r)\n",
    "plt.subplot(3,3,7)\n",
    "plt.imshow(X_reshaped[6],cmap = plt.cm.gray_r)\n",
    "plt.subplot(3,3,8)\n",
    "plt.imshow(X_reshaped[7],cmap = plt.cm.gray_r)\n",
    "plt.subplot(3,3,9)\n",
    "plt.imshow(X_reshaped[8],cmap = plt.cm.gray_r)\n",
    "plt.show()\n",
    "print(Y[:9])"
   ]
  },
  {
   "cell_type": "markdown",
   "metadata": {},
   "source": [
    "定义kNN算法类"
   ]
  },
  {
   "cell_type": "code",
   "execution_count": null,
   "metadata": {
    "collapsed": true
   },
   "outputs": [],
   "source": [
    "class NearestNeighbor:\n",
    "    def __init__(self):\n",
    "        pass\n",
    "    def train(self,X,Y):\n",
    "        self.Xtr=X\n",
    "        self.Ytr=Y\n",
    "    def predict(self,X,Y):\n",
    "        time_start=datetime.datetime.now()\n",
    "        distances=np.sum(np.abs(self.Xtr-X),axis=1)\n",
    "        min_index=np.argmin(distances)\n",
    "        Ypred=self.Ytr[min_index]\n",
    "        time_end=datetime.datetime.now()\n",
    "        print(\"Running time:            \"+str((time_end-time_start).total_seconds())+'s')\n",
    "        print(\"Predicted label:         \"+str(int(Ypred)))\n",
    "        print(\"True label:              \"+str(int(Y)))\n",
    "        print(\"Nearest neighbor picture:\"+str(min_index))\n",
    "        return Ypred\n",
    "    def predict_no_print(self,X,Y):\n",
    "        time_start=datetime.datetime.now()\n",
    "        distances=np.sum(np.abs(self.Xtr-X),axis=1)\n",
    "        min_index=np.argmin(distances)\n",
    "        Ypred=self.Ytr[min_index]\n",
    "        time_end=datetime.datetime.now()\n",
    "        return Ypred        "
   ]
  },
  {
   "cell_type": "code",
   "execution_count": null,
   "metadata": {},
   "outputs": [],
   "source": [
    "method=NearestNeighbor()\n",
    "method.train(X[:10],Y[:10])\n",
    "method.predict(X[10],Y[10])"
   ]
  },
  {
   "cell_type": "code",
   "execution_count": null,
   "metadata": {},
   "outputs": [],
   "source": [
    "plt.imshow(X_reshaped[8],cmap = plt.cm.gray_r)\n",
    "plt.show()\n",
    "plt.imshow(X_reshaped[10],cmap = plt.cm.gray_r)\n",
    "plt.show()"
   ]
  },
  {
   "cell_type": "code",
   "execution_count": null,
   "metadata": {},
   "outputs": [],
   "source": [
    "method.train(X[:1000],Y[:1000])\n",
    "method.predict(X[1000],Y[1000])"
   ]
  },
  {
   "cell_type": "code",
   "execution_count": null,
   "metadata": {},
   "outputs": [],
   "source": [
    "plt.imshow(X_reshaped[1000],cmap = plt.cm.gray_r)\n",
    "plt.show()\n",
    "plt.imshow(X_reshaped[2],cmap = plt.cm.gray_r)\n",
    "plt.show()"
   ]
  },
  {
   "cell_type": "code",
   "execution_count": null,
   "metadata": {},
   "outputs": [],
   "source": [
    "method.train(X[:-1],Y[:-1])\n",
    "method.predict(X[-1],Y[-1])"
   ]
  },
  {
   "cell_type": "code",
   "execution_count": null,
   "metadata": {
    "scrolled": true
   },
   "outputs": [],
   "source": [
    "plt.imshow(X_reshaped[-1],cmap = plt.cm.gray_r)\n",
    "plt.show()\n",
    "plt.imshow(X_reshaped[19722],cmap = plt.cm.gray_r)\n",
    "plt.show()"
   ]
  },
  {
   "cell_type": "code",
   "execution_count": null,
   "metadata": {},
   "outputs": [],
   "source": [
    "img=cv2.imread('1.png')\n",
    "img=cv2.cvtColor(img,cv2.COLOR_BGR2GRAY)\n",
    "img=255-img\n",
    "#print(img)\n",
    "plt.imshow(img,cmap = plt.cm.gray_r)\n",
    "plt.show()\n",
    "img_shaped=img.reshape((-1))"
   ]
  },
  {
   "cell_type": "code",
   "execution_count": null,
   "metadata": {},
   "outputs": [],
   "source": [
    "method=NearestNeighbor()\n",
    "method.train(X,Y)\n",
    "method.predict(img_shaped,9)"
   ]
  },
  {
   "cell_type": "code",
   "execution_count": null,
   "metadata": {},
   "outputs": [],
   "source": [
    "plt.imshow(img,cmap = plt.cm.gray_r)\n",
    "plt.show()\n",
    "plt.imshow(X_reshaped[29151],cmap = plt.cm.gray_r)\n",
    "plt.show()"
   ]
  },
  {
   "cell_type": "code",
   "execution_count": null,
   "metadata": {
    "collapsed": true
   },
   "outputs": [],
   "source": [
    "import numpy as np"
   ]
  },
  {
   "cell_type": "markdown",
   "metadata": {
    "collapsed": true
   },
   "source": [
    "线性分类"
   ]
  },
  {
   "cell_type": "code",
   "execution_count": 3,
   "metadata": {
    "collapsed": true
   },
   "outputs": [],
   "source": [
    "def linear_function(W,X,b):\n",
    "    return W.dot(X)+b"
   ]
  },
  {
   "cell_type": "code",
   "execution_count": 4,
   "metadata": {},
   "outputs": [
    {
     "name": "stdout",
     "output_type": "stream",
     "text": [
      "[ -96.8   437.9    60.75]\n"
     ]
    }
   ],
   "source": [
    "X_num=np.array([56,231,24,2])\n",
    "W=np.array([[0.2,-0.5,0.1,2.0],\n",
    "           [1.5,1.3,2.1,0.0],\n",
    "           [0,0.25,0.2,-0.3]])\n",
    "b=np.array([1.1,3.2,-1.2])\n",
    "print(linear_function(W,X_num,b))"
   ]
  },
  {
   "cell_type": "code",
   "execution_count": 5,
   "metadata": {
    "collapsed": true
   },
   "outputs": [],
   "source": [
    "def linear_function(X,W,b):\n",
    "    return W.dot(X.T)+b"
   ]
  },
  {
   "cell_type": "code",
   "execution_count": 6,
   "metadata": {
    "collapsed": true
   },
   "outputs": [],
   "source": [
    "def sigmoid(X):\n",
    "    s=1/(1+np.exp(-X))\n",
    "    return s"
   ]
  },
  {
   "cell_type": "code",
   "execution_count": 7,
   "metadata": {
    "collapsed": true
   },
   "outputs": [],
   "source": [
    "def initialization(n_x,n_y):\n",
    "    W=np.random.randn(n_y,n_x)*0.1\n",
    "    b=np.zeros((n_y,1))*0.1\n",
    "    return W,b"
   ]
  },
  {
   "cell_type": "code",
   "execution_count": 8,
   "metadata": {
    "collapsed": true
   },
   "outputs": [],
   "source": [
    "def forward_propagation(X,W,b):\n",
    "    Z=linear_function(X,W,b)\n",
    "    A=sigmoid(Z)\n",
    "    cache={'Z':Z,'A':A}\n",
    "    return A,cache"
   ]
  },
  {
   "cell_type": "code",
   "execution_count": 9,
   "metadata": {},
   "outputs": [
    {
     "name": "stdout",
     "output_type": "stream",
     "text": [
      "(42000, 784)\n"
     ]
    }
   ],
   "source": [
    "X_temp=X/255.0\n",
    "Y_temp=to_categorical(Y.T)\n",
    "print(X_temp.shape)\n",
    "W,b=initialization(784,10)\n",
    "Z=linear_function(X_temp,W,b)\n",
    "A=sigmoid(Z)"
   ]
  },
  {
   "cell_type": "code",
   "execution_count": 10,
   "metadata": {
    "collapsed": true
   },
   "outputs": [],
   "source": [
    "def compute_cost(A,Y):\n",
    "    m=Y.shape[1]\n",
    "    #logprobs = np.multiply(np.log(A+(1e-13)),Y)+np.multiply(np.log(1-A+(1e-13)),1-Y)\n",
    "    logprobs = np.multiply(np.log(A),Y)+np.multiply(np.log(1-A),1-Y)\n",
    "    cost = - np.sum(logprobs)/m\n",
    "    cost = np.squeeze(cost)\n",
    "    return cost"
   ]
  },
  {
   "cell_type": "code",
   "execution_count": 11,
   "metadata": {},
   "outputs": [
    {
     "name": "stdout",
     "output_type": "stream",
     "text": [
      "8.84830624474\n"
     ]
    }
   ],
   "source": [
    "print(compute_cost(A,Y_temp.T))"
   ]
  },
  {
   "cell_type": "code",
   "execution_count": 12,
   "metadata": {},
   "outputs": [],
   "source": [
    "A,cache=forward_propagation(X_temp,W,b)"
   ]
  },
  {
   "cell_type": "code",
   "execution_count": 13,
   "metadata": {
    "collapsed": true
   },
   "outputs": [],
   "source": [
    "def backward_propagation(W,b,cache,X,Y):\n",
    "    m=X.shape[1]\n",
    "    Z=cache['Z']\n",
    "    A=cache['A']\n",
    "    dZ=A-Y\n",
    "    dW=dZ.dot(X_temp)/m\n",
    "    db=np.sum(dZ,axis=1,keepdims=True)/m\n",
    "    grads={'dW':dW,'db':db}\n",
    "    return grads"
   ]
  },
  {
   "cell_type": "code",
   "execution_count": 14,
   "metadata": {
    "collapsed": true
   },
   "outputs": [],
   "source": [
    "grads=backward_propagation(W,b,cache,X_temp,Y_temp.T)"
   ]
  },
  {
   "cell_type": "code",
   "execution_count": 15,
   "metadata": {
    "collapsed": true
   },
   "outputs": [],
   "source": [
    "def update_parameters(W,b,grads,learning_rate=0.1):\n",
    "    dW=grads['dW']\n",
    "    db=grads['db']\n",
    "    W=W-learning_rate*dW\n",
    "    b=b-learning_rate*db\n",
    "    return W,b"
   ]
  },
  {
   "cell_type": "code",
   "execution_count": 16,
   "metadata": {
    "collapsed": true
   },
   "outputs": [],
   "source": [
    "W,b=update_parameters(W,b,grads,1.2)"
   ]
  },
  {
   "cell_type": "code",
   "execution_count": 17,
   "metadata": {
    "collapsed": true
   },
   "outputs": [],
   "source": [
    "def model(X,Y,num_iterations=1000):\n",
    "    W,b= initialization(784,10)\n",
    "    for i in range(0,num_iterations):\n",
    "        A,cache=forward_propagation(X,W,b)\n",
    "        cost=compute_cost(A,Y)\n",
    "        grads=backward_propagation(W,b,cache,X,Y)\n",
    "        W,b=update_parameters(W,b,grads,0.01)\n",
    "        #if(i % 100 == 0):\n",
    "        print (\"Cost after iteration %i: %f\" %(i, cost))\n",
    "    return W,b"
   ]
  },
  {
   "cell_type": "code",
   "execution_count": 18,
   "metadata": {},
   "outputs": [
    {
     "name": "stdout",
     "output_type": "stream",
     "text": [
      "Cost after iteration 0: 6.813575\n",
      "Cost after iteration 1: 6.241434\n",
      "Cost after iteration 2: 4.152227\n",
      "Cost after iteration 3: 2.814161\n",
      "Cost after iteration 4: 2.196817\n",
      "Cost after iteration 5: 1.985240\n",
      "Cost after iteration 6: 1.870192\n",
      "Cost after iteration 7: 1.785998\n",
      "Cost after iteration 8: 1.717136\n",
      "Cost after iteration 9: 1.658783\n",
      "Cost after iteration 10: 1.608389\n",
      "Cost after iteration 11: 1.564341\n",
      "Cost after iteration 12: 1.525418\n",
      "Cost after iteration 13: 1.490718\n",
      "Cost after iteration 14: 1.459537\n",
      "Cost after iteration 15: 1.431325\n",
      "Cost after iteration 16: 1.405643\n",
      "Cost after iteration 17: 1.382136\n",
      "Cost after iteration 18: 1.360518\n",
      "Cost after iteration 19: 1.340548\n",
      "(42000, 784)\n"
     ]
    }
   ],
   "source": [
    "W,b=model(X_temp,Y_temp.T,5)\n",
    "print(X_temp.shape)"
   ]
  },
  {
   "cell_type": "code",
   "execution_count": 19,
   "metadata": {
    "collapsed": true
   },
   "outputs": [],
   "source": [
    "def model_pretrained(X,Y,num_iterations=100):\n",
    "    W=np.load('W.npy')\n",
    "    b=np.load('b.npy')\n",
    "    #W,b= initialization(784,10)\n",
    "    for i in range(0,num_iterations):\n",
    "        A,cache=forward_propagation(X,W,b)\n",
    "        cost=compute_cost(A,Y)\n",
    "        grads=backward_propagation(W,b,cache,X,Y)\n",
    "        W,b=update_parameters(W,b,grads,0.01)\n",
    "        #if(i % 100 == 0):\n",
    "        print (\"Cost after iteration %i: %f\" %(i, cost))\n",
    "    np.save('W.npy',W)\n",
    "    np.save('b.npy',b)\n",
    "    return W,b"
   ]
  },
  {
   "cell_type": "code",
   "execution_count": 48,
   "metadata": {},
   "outputs": [
    {
     "name": "stdout",
     "output_type": "stream",
     "text": [
      "Cost after iteration 0: 0.636628\n",
      "Cost after iteration 1: 0.636610\n",
      "Cost after iteration 2: 0.636592\n",
      "Cost after iteration 3: 0.636574\n",
      "Cost after iteration 4: 0.636557\n",
      "Cost after iteration 5: 0.636539\n",
      "Cost after iteration 6: 0.636521\n",
      "Cost after iteration 7: 0.636503\n",
      "Cost after iteration 8: 0.636485\n",
      "Cost after iteration 9: 0.636467\n",
      "Cost after iteration 10: 0.636450\n",
      "Cost after iteration 11: 0.636432\n",
      "Cost after iteration 12: 0.636414\n",
      "Cost after iteration 13: 0.636396\n",
      "Cost after iteration 14: 0.636378\n",
      "Cost after iteration 15: 0.636361\n",
      "Cost after iteration 16: 0.636343\n",
      "Cost after iteration 17: 0.636325\n",
      "Cost after iteration 18: 0.636308\n",
      "Cost after iteration 19: 0.636290\n",
      "Cost after iteration 20: 0.636272\n",
      "Cost after iteration 21: 0.636254\n",
      "Cost after iteration 22: 0.636237\n",
      "Cost after iteration 23: 0.636219\n",
      "Cost after iteration 24: 0.636201\n",
      "Cost after iteration 25: 0.636184\n",
      "Cost after iteration 26: 0.636166\n",
      "Cost after iteration 27: 0.636149\n",
      "Cost after iteration 28: 0.636131\n",
      "Cost after iteration 29: 0.636113\n",
      "Cost after iteration 30: 0.636096\n",
      "Cost after iteration 31: 0.636078\n",
      "Cost after iteration 32: 0.636061\n",
      "Cost after iteration 33: 0.636043\n",
      "Cost after iteration 34: 0.636026\n",
      "Cost after iteration 35: 0.636008\n",
      "Cost after iteration 36: 0.635990\n",
      "Cost after iteration 37: 0.635973\n",
      "Cost after iteration 38: 0.635955\n",
      "Cost after iteration 39: 0.635938\n",
      "Cost after iteration 40: 0.635921\n",
      "Cost after iteration 41: 0.635903\n",
      "Cost after iteration 42: 0.635886\n",
      "Cost after iteration 43: 0.635868\n",
      "Cost after iteration 44: 0.635851\n",
      "Cost after iteration 45: 0.635833\n",
      "Cost after iteration 46: 0.635816\n",
      "Cost after iteration 47: 0.635799\n",
      "Cost after iteration 48: 0.635781\n",
      "Cost after iteration 49: 0.635764\n",
      "Cost after iteration 50: 0.635746\n",
      "Cost after iteration 51: 0.635729\n",
      "Cost after iteration 52: 0.635712\n",
      "Cost after iteration 53: 0.635694\n",
      "Cost after iteration 54: 0.635677\n",
      "Cost after iteration 55: 0.635660\n",
      "Cost after iteration 56: 0.635642\n",
      "Cost after iteration 57: 0.635625\n",
      "Cost after iteration 58: 0.635608\n",
      "Cost after iteration 59: 0.635591\n",
      "Cost after iteration 60: 0.635573\n",
      "Cost after iteration 61: 0.635556\n",
      "Cost after iteration 62: 0.635539\n",
      "Cost after iteration 63: 0.635522\n",
      "Cost after iteration 64: 0.635504\n",
      "Cost after iteration 65: 0.635487\n",
      "Cost after iteration 66: 0.635470\n",
      "Cost after iteration 67: 0.635453\n",
      "Cost after iteration 68: 0.635436\n",
      "Cost after iteration 69: 0.635419\n",
      "Cost after iteration 70: 0.635401\n",
      "Cost after iteration 71: 0.635384\n",
      "Cost after iteration 72: 0.635367\n",
      "Cost after iteration 73: 0.635350\n",
      "Cost after iteration 74: 0.635333\n",
      "Cost after iteration 75: 0.635316\n",
      "Cost after iteration 76: 0.635299\n",
      "Cost after iteration 77: 0.635282\n",
      "Cost after iteration 78: 0.635265\n",
      "Cost after iteration 79: 0.635248\n",
      "Cost after iteration 80: 0.635231\n",
      "Cost after iteration 81: 0.635214\n",
      "Cost after iteration 82: 0.635197\n",
      "Cost after iteration 83: 0.635180\n",
      "Cost after iteration 84: 0.635163\n",
      "Cost after iteration 85: 0.635146\n",
      "Cost after iteration 86: 0.635129\n",
      "Cost after iteration 87: 0.635112\n",
      "Cost after iteration 88: 0.635095\n",
      "Cost after iteration 89: 0.635078\n",
      "Cost after iteration 90: 0.635061\n",
      "Cost after iteration 91: 0.635044\n",
      "Cost after iteration 92: 0.635027\n",
      "Cost after iteration 93: 0.635010\n",
      "Cost after iteration 94: 0.634993\n",
      "Cost after iteration 95: 0.634976\n",
      "Cost after iteration 96: 0.634959\n",
      "Cost after iteration 97: 0.634943\n",
      "Cost after iteration 98: 0.634926\n",
      "Cost after iteration 99: 0.634909\n",
      "Cost after iteration 100: 0.634892\n",
      "Cost after iteration 101: 0.634875\n",
      "Cost after iteration 102: 0.634858\n",
      "Cost after iteration 103: 0.634842\n",
      "Cost after iteration 104: 0.634825\n",
      "Cost after iteration 105: 0.634808\n",
      "Cost after iteration 106: 0.634791\n",
      "Cost after iteration 107: 0.634775\n",
      "Cost after iteration 108: 0.634758\n",
      "Cost after iteration 109: 0.634741\n",
      "Cost after iteration 110: 0.634724\n",
      "Cost after iteration 111: 0.634708\n",
      "Cost after iteration 112: 0.634691\n",
      "Cost after iteration 113: 0.634674\n",
      "Cost after iteration 114: 0.634658\n",
      "Cost after iteration 115: 0.634641\n",
      "Cost after iteration 116: 0.634624\n",
      "Cost after iteration 117: 0.634608\n",
      "Cost after iteration 118: 0.634591\n",
      "Cost after iteration 119: 0.634574\n",
      "Cost after iteration 120: 0.634558\n",
      "Cost after iteration 121: 0.634541\n",
      "Cost after iteration 122: 0.634524\n",
      "Cost after iteration 123: 0.634508\n",
      "Cost after iteration 124: 0.634491\n",
      "Cost after iteration 125: 0.634475\n",
      "Cost after iteration 126: 0.634458\n",
      "Cost after iteration 127: 0.634442\n",
      "Cost after iteration 128: 0.634425\n",
      "Cost after iteration 129: 0.634409\n",
      "Cost after iteration 130: 0.634392\n",
      "Cost after iteration 131: 0.634375\n",
      "Cost after iteration 132: 0.634359\n",
      "Cost after iteration 133: 0.634343\n",
      "Cost after iteration 134: 0.634326\n",
      "Cost after iteration 135: 0.634310\n",
      "Cost after iteration 136: 0.634293\n",
      "Cost after iteration 137: 0.634277\n",
      "Cost after iteration 138: 0.634260\n",
      "Cost after iteration 139: 0.634244\n",
      "Cost after iteration 140: 0.634227\n",
      "Cost after iteration 141: 0.634211\n",
      "Cost after iteration 142: 0.634195\n",
      "Cost after iteration 143: 0.634178\n",
      "Cost after iteration 144: 0.634162\n",
      "Cost after iteration 145: 0.634145\n",
      "Cost after iteration 146: 0.634129\n",
      "Cost after iteration 147: 0.634113\n",
      "Cost after iteration 148: 0.634096\n",
      "Cost after iteration 149: 0.634080\n",
      "Cost after iteration 150: 0.634064\n",
      "Cost after iteration 151: 0.634047\n",
      "Cost after iteration 152: 0.634031\n",
      "Cost after iteration 153: 0.634015\n",
      "Cost after iteration 154: 0.633999\n",
      "Cost after iteration 155: 0.633982\n",
      "Cost after iteration 156: 0.633966\n",
      "Cost after iteration 157: 0.633950\n",
      "Cost after iteration 158: 0.633933\n",
      "Cost after iteration 159: 0.633917\n",
      "Cost after iteration 160: 0.633901\n",
      "Cost after iteration 161: 0.633885\n",
      "Cost after iteration 162: 0.633869\n",
      "Cost after iteration 163: 0.633852\n",
      "Cost after iteration 164: 0.633836\n",
      "Cost after iteration 165: 0.633820\n",
      "Cost after iteration 166: 0.633804\n",
      "Cost after iteration 167: 0.633788\n",
      "Cost after iteration 168: 0.633772\n",
      "Cost after iteration 169: 0.633755\n",
      "Cost after iteration 170: 0.633739\n",
      "Cost after iteration 171: 0.633723\n",
      "Cost after iteration 172: 0.633707\n",
      "Cost after iteration 173: 0.633691\n",
      "Cost after iteration 174: 0.633675\n",
      "Cost after iteration 175: 0.633659\n",
      "Cost after iteration 176: 0.633643\n",
      "Cost after iteration 177: 0.633627\n",
      "Cost after iteration 178: 0.633611\n",
      "Cost after iteration 179: 0.633595\n",
      "Cost after iteration 180: 0.633579\n",
      "Cost after iteration 181: 0.633563\n",
      "Cost after iteration 182: 0.633547\n",
      "Cost after iteration 183: 0.633531\n",
      "Cost after iteration 184: 0.633515\n",
      "Cost after iteration 185: 0.633499\n",
      "Cost after iteration 186: 0.633483\n",
      "Cost after iteration 187: 0.633467\n",
      "Cost after iteration 188: 0.633451\n",
      "Cost after iteration 189: 0.633435\n",
      "Cost after iteration 190: 0.633419\n",
      "Cost after iteration 191: 0.633403\n",
      "Cost after iteration 192: 0.633387\n",
      "Cost after iteration 193: 0.633371\n",
      "Cost after iteration 194: 0.633355\n",
      "Cost after iteration 195: 0.633339\n",
      "Cost after iteration 196: 0.633323\n",
      "Cost after iteration 197: 0.633308\n",
      "Cost after iteration 198: 0.633292\n",
      "Cost after iteration 199: 0.633276\n",
      "Cost after iteration 200: 0.633260\n",
      "Cost after iteration 201: 0.633244\n",
      "Cost after iteration 202: 0.633228\n",
      "Cost after iteration 203: 0.633213\n",
      "Cost after iteration 204: 0.633197\n",
      "Cost after iteration 205: 0.633181\n",
      "Cost after iteration 206: 0.633165\n",
      "Cost after iteration 207: 0.633149\n",
      "Cost after iteration 208: 0.633134\n",
      "Cost after iteration 209: 0.633118\n",
      "Cost after iteration 210: 0.633102\n",
      "Cost after iteration 211: 0.633086\n",
      "Cost after iteration 212: 0.633071\n",
      "Cost after iteration 213: 0.633055\n",
      "Cost after iteration 214: 0.633039\n",
      "Cost after iteration 215: 0.633024\n",
      "Cost after iteration 216: 0.633008\n",
      "Cost after iteration 217: 0.632992\n",
      "Cost after iteration 218: 0.632977\n",
      "Cost after iteration 219: 0.632961\n",
      "Cost after iteration 220: 0.632945\n",
      "Cost after iteration 221: 0.632930\n",
      "Cost after iteration 222: 0.632914\n",
      "Cost after iteration 223: 0.632898\n",
      "Cost after iteration 224: 0.632883\n",
      "Cost after iteration 225: 0.632867\n",
      "Cost after iteration 226: 0.632852\n",
      "Cost after iteration 227: 0.632836\n",
      "Cost after iteration 228: 0.632820\n",
      "Cost after iteration 229: 0.632805\n",
      "Cost after iteration 230: 0.632789\n",
      "Cost after iteration 231: 0.632774\n",
      "Cost after iteration 232: 0.632758\n",
      "Cost after iteration 233: 0.632743\n",
      "Cost after iteration 234: 0.632727\n",
      "Cost after iteration 235: 0.632712\n",
      "Cost after iteration 236: 0.632696\n",
      "Cost after iteration 237: 0.632681\n"
     ]
    },
    {
     "name": "stdout",
     "output_type": "stream",
     "text": [
      "Cost after iteration 238: 0.632665\n",
      "Cost after iteration 239: 0.632650\n",
      "Cost after iteration 240: 0.632634\n",
      "Cost after iteration 241: 0.632619\n",
      "Cost after iteration 242: 0.632603\n",
      "Cost after iteration 243: 0.632588\n",
      "Cost after iteration 244: 0.632572\n",
      "Cost after iteration 245: 0.632557\n",
      "Cost after iteration 246: 0.632541\n",
      "Cost after iteration 247: 0.632526\n",
      "Cost after iteration 248: 0.632511\n",
      "Cost after iteration 249: 0.632495\n",
      "Cost after iteration 250: 0.632480\n",
      "Cost after iteration 251: 0.632465\n",
      "Cost after iteration 252: 0.632449\n",
      "Cost after iteration 253: 0.632434\n",
      "Cost after iteration 254: 0.632418\n",
      "Cost after iteration 255: 0.632403\n",
      "Cost after iteration 256: 0.632388\n",
      "Cost after iteration 257: 0.632372\n",
      "Cost after iteration 258: 0.632357\n",
      "Cost after iteration 259: 0.632342\n",
      "Cost after iteration 260: 0.632327\n",
      "Cost after iteration 261: 0.632311\n",
      "Cost after iteration 262: 0.632296\n",
      "Cost after iteration 263: 0.632281\n",
      "Cost after iteration 264: 0.632265\n",
      "Cost after iteration 265: 0.632250\n",
      "Cost after iteration 266: 0.632235\n",
      "Cost after iteration 267: 0.632220\n",
      "Cost after iteration 268: 0.632205\n",
      "Cost after iteration 269: 0.632189\n",
      "Cost after iteration 270: 0.632174\n",
      "Cost after iteration 271: 0.632159\n",
      "Cost after iteration 272: 0.632144\n",
      "Cost after iteration 273: 0.632129\n",
      "Cost after iteration 274: 0.632113\n",
      "Cost after iteration 275: 0.632098\n",
      "Cost after iteration 276: 0.632083\n",
      "Cost after iteration 277: 0.632068\n",
      "Cost after iteration 278: 0.632053\n",
      "Cost after iteration 279: 0.632038\n",
      "Cost after iteration 280: 0.632023\n",
      "Cost after iteration 281: 0.632007\n",
      "Cost after iteration 282: 0.631992\n",
      "Cost after iteration 283: 0.631977\n",
      "Cost after iteration 284: 0.631962\n",
      "Cost after iteration 285: 0.631947\n",
      "Cost after iteration 286: 0.631932\n",
      "Cost after iteration 287: 0.631917\n",
      "Cost after iteration 288: 0.631902\n",
      "Cost after iteration 289: 0.631887\n",
      "Cost after iteration 290: 0.631872\n",
      "Cost after iteration 291: 0.631857\n",
      "Cost after iteration 292: 0.631842\n",
      "Cost after iteration 293: 0.631827\n",
      "Cost after iteration 294: 0.631812\n",
      "Cost after iteration 295: 0.631797\n",
      "Cost after iteration 296: 0.631782\n",
      "Cost after iteration 297: 0.631767\n",
      "Cost after iteration 298: 0.631752\n",
      "Cost after iteration 299: 0.631737\n"
     ]
    }
   ],
   "source": [
    "W1,b1=model_pretrained(X_temp,Y_temp.T,300)"
   ]
  },
  {
   "cell_type": "code",
   "execution_count": 42,
   "metadata": {},
   "outputs": [
    {
     "data": {
      "image/png": "[encoded data removed]",
      "text/plain": [
       "<matplotlib.figure.Figure at 0x1bbf45730f0>"
      ]
     },
     "metadata": {},
     "output_type": "display_data"
    }
   ],
   "source": [
    "img=cv2.imread('1.png')\n",
    "img=cv2.cvtColor(img,cv2.COLOR_BGR2GRAY)\n",
    "img=255-img\n",
    "#print(img)\n",
    "plt.imshow(img,cmap = plt.cm.gray_r)\n",
    "plt.show()\n",
    "img_shaped=np.array([img.reshape((-1))])\n",
    "img_shaped=img_shaped/255.0"
   ]
  },
  {
   "cell_type": "code",
   "execution_count": 43,
   "metadata": {},
   "outputs": [
    {
     "name": "stdout",
     "output_type": "stream",
     "text": [
      "(1, 784)\n"
     ]
    }
   ],
   "source": [
    "print(img_shaped.shape)"
   ]
  },
  {
   "cell_type": "code",
   "execution_count": 44,
   "metadata": {},
   "outputs": [
    {
     "name": "stdout",
     "output_type": "stream",
     "text": [
      "(42000, 784)\n"
     ]
    }
   ],
   "source": [
    "print(X_temp.shape)"
   ]
  },
  {
   "cell_type": "code",
   "execution_count": 45,
   "metadata": {},
   "outputs": [],
   "source": [
    "result,_=forward_propagation(img_shaped,W1,b1)"
   ]
  },
  {
   "cell_type": "code",
   "execution_count": 46,
   "metadata": {},
   "outputs": [
    {
     "name": "stdout",
     "output_type": "stream",
     "text": [
      "Predicted number is 5\n"
     ]
    }
   ],
   "source": [
    "output=np.argmax(result)\n",
    "print(\"Predicted number is \"+str(output))"
   ]
  },
  {
   "cell_type": "code",
   "execution_count": 41,
   "metadata": {},
   "outputs": [
    {
     "name": "stdout",
     "output_type": "stream",
     "text": [
      "[[  5.81697452e-04]\n",
      " [  2.31402993e-05]\n",
      " [  9.18201099e-01]\n",
      " [  3.90584905e-04]\n",
      " [  1.04693478e-04]\n",
      " [  2.84694389e-03]\n",
      " [  1.01421246e-03]\n",
      " [  1.34631306e-05]\n",
      " [  3.43999631e-05]\n",
      " [  8.55152983e-05]]\n"
     ]
    }
   ],
   "source": [
    "print(result)"
   ]
  },
  {
   "cell_type": "code",
   "execution_count": null,
   "metadata": {
    "collapsed": true
   },
   "outputs": [],
   "source": []
  }
 ],
 "metadata": {
  "kernelspec": {
   "display_name": "Python 3",
   "language": "python",
   "name": "python3"
  },
  "language_info": {
   "codemirror_mode": {
    "name": "ipython",
    "version": 3
   },
   "file_extension": ".py",
   "mimetype": "text/x-python",
   "name": "python",
   "nbconvert_exporter": "python",
   "pygments_lexer": "ipython3",
   "version": "3.6.1"
  }
 },
 "nbformat": 4,
 "nbformat_minor": 2
}
